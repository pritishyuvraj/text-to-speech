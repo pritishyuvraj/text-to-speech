{
 "cells": [
  {
   "cell_type": "code",
   "execution_count": 5,
   "metadata": {},
   "outputs": [
    {
     "name": "stdout",
     "output_type": "stream",
     "text": [
      "Populating the interactive namespace from numpy and matplotlib\n"
     ]
    }
   ],
   "source": [
    "%pylab inline\n",
    "rcParams[\"figure.figsize\"] = (16, 5)\n",
    "\n",
    "from nnmnkwii.datasets import FileDataSource, FileSourceDataset\n",
    "from nnmnkwii.datasets import MemoryCacheFramewiseDataset\n",
    "from nnmnkwii.preprocessing import trim_zeros_frames, remove_zeros_frames\n",
    "from nnmnkwii.preprocessing import minmax, meanvar, minmax_scale, scale\n",
    "from nnmnkwii import paramgen\n",
    "from nnmnkwii.io import hts\n",
    "from nnmnkwii.frontend import merlin as fe\n",
    "from nnmnkwii.postfilters import merlin_post_filter\n",
    "\n",
    "from os.path import join, expanduser, basename, splitext, exists\n",
    "import os \n",
    "from glob import glob\n",
    "import numpy as np\n",
    "from scipy.io import wavfile\n",
    "from sklearn.model_selection import train_test_split\n",
    "import pyworld\n",
    "import pysptk\n",
    "import librosa\n",
    "import librosa.display\n",
    "import IPython\n",
    "from IPython.display import Audio"
   ]
  },
  {
   "cell_type": "code",
   "execution_count": 6,
   "metadata": {},
   "outputs": [],
   "source": [
    "DATA_ROOT = \"./data/slt_arctic_full_data\"\n",
    "test_size = 0.112\n",
    "random_state = 1234"
   ]
  },
  {
   "cell_type": "code",
   "execution_count": 7,
   "metadata": {},
   "outputs": [],
   "source": [
    "mgc_dim = 180\n",
    "lf0_dim = 3\n",
    "vuv_dim = 1\n",
    "bap_dim = 3\n",
    "\n",
    "duration_linguistic_dim = 416\n",
    "acoustic_linguistic_dim = 425\n",
    "duration_dim = 5\n",
    "acoustic_dim = mgc_dim + lf0_dim + vuv_dim + bap_dim \n",
    "\n",
    "fs = 16000\n",
    "frame_period = 5\n",
    "hop_length = 80\n",
    "fftlen = 1024\n",
    "alpha = 0.41\n",
    "\n",
    "mgc_start_idx = 0\n",
    "lf0_start_idx = 180\n",
    "vuv_start_idx = 183\n",
    "bap_start_idx = 184\n",
    "\n",
    "windows = [\n",
    "    (0, 0, np.array([1.0])),\n",
    "    (1, 1, np.array([-0.5, 0.0, 0.5])),\n",
    "    (1, 1, np.array([1.0, -2.0, 1.0])),\n",
    "]"
   ]
  },
  {
   "cell_type": "code",
   "execution_count": 20,
   "metadata": {},
   "outputs": [],
   "source": [
    "class BinaryFileSource(FileDataSource):\n",
    "    def __init__(self, data_root, dim, train):\n",
    "        self.data_root = data_root\n",
    "        self.dim = dim \n",
    "        self.train = train\n",
    "    def collect_files(self):\n",
    "        files = sorted(glob(join(self.data_root, \"*.bin\")))\n",
    "        files = files[:len(files)-5]\n",
    "        train_files, test_files = train_test_split(files,\n",
    "                                                  test_size=test_size,\n",
    "                                                  random_state=random_state)\n",
    "        if self.train:\n",
    "            return train_files\n",
    "        else:\n",
    "            return test_files\n",
    "    def collect_features(self, path):\n",
    "        return np.fromfile(path, dtype=np.float32).reshape(-1, self.dim)"
   ]
  },
  {
   "cell_type": "code",
   "execution_count": 22,
   "metadata": {},
   "outputs": [
    {
     "name": "stdout",
     "output_type": "stream",
     "text": [
      "./data/slt_arctic_full_data X_duration\n",
      "./data/slt_arctic_full_data/X_duration/*.bin\n",
      "<nnmnkwii.datasets.FileSourceDataset object at 0x7f3022ea70b8>\n",
      "./data/slt_arctic_full_data/Y_duration/*.bin\n",
      "./data/slt_arctic_full_data X_duration\n",
      "./data/slt_arctic_full_data/X_duration/*.bin\n",
      "<nnmnkwii.datasets.FileSourceDataset object at 0x7f3022ea7748>\n",
      "./data/slt_arctic_full_data/Y_duration/*.bin\n",
      "./data/slt_arctic_full_data X_acoustic\n",
      "./data/slt_arctic_full_data/X_acoustic/*.bin\n",
      "<nnmnkwii.datasets.FileSourceDataset object at 0x7f3022ea7080>\n",
      "./data/slt_arctic_full_data/Y_acoustic/*.bin\n",
      "./data/slt_arctic_full_data X_acoustic\n",
      "./data/slt_arctic_full_data/X_acoustic/*.bin\n",
      "<nnmnkwii.datasets.FileSourceDataset object at 0x7f3022ea7630>\n",
      "./data/slt_arctic_full_data/Y_acoustic/*.bin\n"
     ]
    }
   ],
   "source": [
    "X = {\"duration\":{}, \"acoustic\": {}}\n",
    "Y = {\"duration\":{}, \"acoustic\": {}}\n",
    "\n",
    "utt_lengths = {\"duration\": {}, \"acoustic\": {}}\n",
    "for ty in [\"duration\", \"acoustic\"]:\n",
    "    for phase in [\"train\", \"test\"]:\n",
    "        train = phase == \"train\"\n",
    "        x_dim = duration_linguistic_dim if ty == \"duration\" else acoustic_linguistic_dim\n",
    "        y_dim = duration_dim if ty == \"duration\" else acoustic_dim \n",
    "        print(DATA_ROOT, \"X_{}\".format(ty))\n",
    "        X[ty][phase] = FileSourceDataset(BinaryFileSource(join(DATA_ROOT, \"X_{}\".format(ty)),\n",
    "                                        dim=x_dim,\n",
    "                                        train=train))\n",
    "        print(X[ty][phase])\n",
    "        Y[ty][phase] = FileSourceDataset(BinaryFileSource(join(DATA_ROOT, \"Y_{}\".format(ty)),\n",
    "                                                         dim=y_dim,\n",
    "                                                         train=train))\n",
    "        utt_lengths[ty][phase] = [len(x) for x in X[ty][phase]]"
   ]
  },
  {
   "cell_type": "code",
   "execution_count": 13,
   "metadata": {},
   "outputs": [
    {
     "name": "stdout",
     "output_type": "stream",
     "text": [
      "data  DNN_2.ipynb  dnn_text_to_speech.ipynb  scripts\r\n"
     ]
    }
   ],
   "source": [
    "!ls"
   ]
  },
  {
   "cell_type": "code",
   "execution_count": null,
   "metadata": {},
   "outputs": [],
   "source": []
  }
 ],
 "metadata": {
  "kernelspec": {
   "display_name": "Python 3",
   "language": "python",
   "name": "python3"
  },
  "language_info": {
   "codemirror_mode": {
    "name": "ipython",
    "version": 3
   },
   "file_extension": ".py",
   "mimetype": "text/x-python",
   "name": "python",
   "nbconvert_exporter": "python",
   "pygments_lexer": "ipython3",
   "version": "3.6.5"
  }
 },
 "nbformat": 4,
 "nbformat_minor": 2
}
